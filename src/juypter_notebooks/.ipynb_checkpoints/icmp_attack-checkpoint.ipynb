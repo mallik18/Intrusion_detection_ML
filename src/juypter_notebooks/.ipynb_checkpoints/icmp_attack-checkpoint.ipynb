{
 "cells": [
  {
   "cell_type": "code",
   "execution_count": 1,
   "metadata": {},
   "outputs": [],
   "source": [
    "#ICMP Flood attack model\n",
    "#import packages\n",
    "\n",
    "import matplotlib\n",
    "import matplotlib.pyplot as plt\n",
    "import seaborn as sns\n",
    "import pandas as pd\n"
   ]
  },
  {
   "cell_type": "code",
   "execution_count": 5,
   "metadata": {},
   "outputs": [],
   "source": [
    "#attributes of the dataset and there are total 42 of them in the original dataset.\n",
    "\n",
    "colnames = [\"duration\",\"protocol_type\",\"service\",\"flag\",\"src_bytes\",\"dst_bytes\",\"land\",\n",
    "            \"wrong_fragment\",\"urgent\",\"hot\",\"num_failed_logins\",\"logged_in\",\"num_compromised\",\n",
    "            \"root_shell\",\"su_attempted\",\"num_root\",\"num_file_creations\",\"num_shells\",\n",
    "            \"num_access_files\",\"num_outbound_cmds\",\"is_host_login\",\"is_guest_login\",\"count\",\n",
    "            \"srv_count\",\"serror_rate\",\"srv_serror_rate\",\"same_srv_rate\",\"diff_srv_rate\",\n",
    "            \"srv_diff_host_rate\",\"una1\",\"una2\",\"dst_host_count\",\"dst_host_srv_count\",\n",
    "            \"dst_host_same_srv_rate\",\"dst_host_diff_srv_rate\",\"dst_host_same_src_port_rate\",\n",
    "            \"dst_host_srv_diff_host_rate\",\"dst_host_serror_rate\",\"dst_host_srv_serror_rate\",\n",
    "            \"dst_host_rerror_rate\",\"dst_host_srv_rerror_rate\",\"result\"]"
   ]
  },
  {
   "cell_type": "code",
   "execution_count": 6,
   "metadata": {},
   "outputs": [],
   "source": [
    "df = pd.read_csv(\"/home/noroot/Documents/final_year_project/Intrusion_detection_ML/dataset/dataset-corrected.csv\",header=None,names=colnames)"
   ]
  },
  {
   "cell_type": "code",
   "execution_count": 7,
   "metadata": {},
   "outputs": [
    {
     "name": "stdout",
     "output_type": "stream",
     "text": [
      "<class 'pandas.core.frame.DataFrame'>\n",
      "RangeIndex: 311029 entries, 0 to 311028\n",
      "Data columns (total 42 columns):\n",
      " #   Column                       Non-Null Count   Dtype  \n",
      "---  ------                       --------------   -----  \n",
      " 0   duration                     311029 non-null  int64  \n",
      " 1   protocol_type                311029 non-null  object \n",
      " 2   service                      311029 non-null  object \n",
      " 3   flag                         311029 non-null  object \n",
      " 4   src_bytes                    311029 non-null  int64  \n",
      " 5   dst_bytes                    311029 non-null  int64  \n",
      " 6   land                         311029 non-null  int64  \n",
      " 7   wrong_fragment               311029 non-null  int64  \n",
      " 8   urgent                       311029 non-null  int64  \n",
      " 9   hot                          311029 non-null  int64  \n",
      " 10  num_failed_logins            311029 non-null  int64  \n",
      " 11  logged_in                    311029 non-null  int64  \n",
      " 12  num_compromised              311029 non-null  int64  \n",
      " 13  root_shell                   311029 non-null  int64  \n",
      " 14  su_attempted                 311029 non-null  int64  \n",
      " 15  num_root                     311029 non-null  int64  \n",
      " 16  num_file_creations           311029 non-null  int64  \n",
      " 17  num_shells                   311029 non-null  int64  \n",
      " 18  num_access_files             311029 non-null  int64  \n",
      " 19  num_outbound_cmds            311029 non-null  int64  \n",
      " 20  is_host_login                311029 non-null  int64  \n",
      " 21  is_guest_login               311029 non-null  int64  \n",
      " 22  count                        311029 non-null  int64  \n",
      " 23  srv_count                    311029 non-null  int64  \n",
      " 24  serror_rate                  311029 non-null  float64\n",
      " 25  srv_serror_rate              311029 non-null  float64\n",
      " 26  same_srv_rate                311029 non-null  float64\n",
      " 27  diff_srv_rate                311029 non-null  float64\n",
      " 28  srv_diff_host_rate           311029 non-null  float64\n",
      " 29  una1                         311029 non-null  float64\n",
      " 30  una2                         311029 non-null  float64\n",
      " 31  dst_host_count               311029 non-null  int64  \n",
      " 32  dst_host_srv_count           311029 non-null  int64  \n",
      " 33  dst_host_same_srv_rate       311029 non-null  float64\n",
      " 34  dst_host_diff_srv_rate       311029 non-null  float64\n",
      " 35  dst_host_same_src_port_rate  311029 non-null  float64\n",
      " 36  dst_host_srv_diff_host_rate  311029 non-null  float64\n",
      " 37  dst_host_serror_rate         311029 non-null  float64\n",
      " 38  dst_host_srv_serror_rate     311029 non-null  float64\n",
      " 39  dst_host_rerror_rate         311029 non-null  float64\n",
      " 40  dst_host_srv_rerror_rate     311029 non-null  float64\n",
      " 41  result                       311029 non-null  object \n",
      "dtypes: float64(15), int64(23), object(4)\n",
      "memory usage: 99.7+ MB\n"
     ]
    }
   ],
   "source": [
    "df.info()"
   ]
  },
  {
   "cell_type": "code",
   "execution_count": 38,
   "metadata": {},
   "outputs": [
    {
     "data": {
      "text/plain": [
       "(311029, 42)"
      ]
     },
     "execution_count": 38,
     "metadata": {},
     "output_type": "execute_result"
    }
   ],
   "source": [
    "df.shape"
   ]
  },
  {
   "cell_type": "code",
   "execution_count": 8,
   "metadata": {},
   "outputs": [],
   "source": [
    "#extracting the icmp packets from our dataset\n",
    "icmp_df = df[df.loc[:,\"protocol_type\"] == \"icmp\"]"
   ]
  },
  {
   "cell_type": "code",
   "execution_count": 9,
   "metadata": {},
   "outputs": [
    {
     "data": {
      "text/plain": [
       "duration                       0\n",
       "protocol_type                  0\n",
       "service                        0\n",
       "flag                           0\n",
       "src_bytes                      0\n",
       "dst_bytes                      0\n",
       "land                           0\n",
       "wrong_fragment                 0\n",
       "urgent                         0\n",
       "hot                            0\n",
       "num_failed_logins              0\n",
       "logged_in                      0\n",
       "num_compromised                0\n",
       "root_shell                     0\n",
       "su_attempted                   0\n",
       "num_root                       0\n",
       "num_file_creations             0\n",
       "num_shells                     0\n",
       "num_access_files               0\n",
       "num_outbound_cmds              0\n",
       "is_host_login                  0\n",
       "is_guest_login                 0\n",
       "count                          0\n",
       "srv_count                      0\n",
       "serror_rate                    0\n",
       "srv_serror_rate                0\n",
       "same_srv_rate                  0\n",
       "diff_srv_rate                  0\n",
       "srv_diff_host_rate             0\n",
       "una1                           0\n",
       "una2                           0\n",
       "dst_host_count                 0\n",
       "dst_host_srv_count             0\n",
       "dst_host_same_srv_rate         0\n",
       "dst_host_diff_srv_rate         0\n",
       "dst_host_same_src_port_rate    0\n",
       "dst_host_srv_diff_host_rate    0\n",
       "dst_host_serror_rate           0\n",
       "dst_host_srv_serror_rate       0\n",
       "dst_host_rerror_rate           0\n",
       "dst_host_srv_rerror_rate       0\n",
       "result                         0\n",
       "dtype: int64"
      ]
     },
     "execution_count": 9,
     "metadata": {},
     "output_type": "execute_result"
    }
   ],
   "source": [
    "#none of the values in dataset are null\n",
    "icmp_df.isnull().sum()"
   ]
  },
  {
   "cell_type": "code",
   "execution_count": 41,
   "metadata": {},
   "outputs": [],
   "source": []
  },
  {
   "cell_type": "code",
   "execution_count": 42,
   "metadata": {},
   "outputs": [
    {
     "name": "stdout",
     "output_type": "stream",
     "text": [
      "<class 'pandas.core.frame.DataFrame'>\n",
      "Int64Index: 164969 entries, 82 to 310931\n",
      "Data columns (total 42 columns):\n",
      " #   Column                       Non-Null Count   Dtype  \n",
      "---  ------                       --------------   -----  \n",
      " 0   duration                     164969 non-null  int64  \n",
      " 1   protocol_type                164969 non-null  object \n",
      " 2   service                      164969 non-null  object \n",
      " 3   flag                         164969 non-null  object \n",
      " 4   src_bytes                    164969 non-null  int64  \n",
      " 5   dst_bytes                    164969 non-null  int64  \n",
      " 6   land                         164969 non-null  int64  \n",
      " 7   wrong_fragment               164969 non-null  int64  \n",
      " 8   urgent                       164969 non-null  int64  \n",
      " 9   hot                          164969 non-null  int64  \n",
      " 10  num_failed_logins            164969 non-null  int64  \n",
      " 11  logged_in                    164969 non-null  int64  \n",
      " 12  num_compromised              164969 non-null  int64  \n",
      " 13  root_shell                   164969 non-null  int64  \n",
      " 14  su_attempted                 164969 non-null  int64  \n",
      " 15  num_root                     164969 non-null  int64  \n",
      " 16  num_file_creations           164969 non-null  int64  \n",
      " 17  num_shells                   164969 non-null  int64  \n",
      " 18  num_access_files             164969 non-null  int64  \n",
      " 19  num_outbound_cmds            164969 non-null  int64  \n",
      " 20  is_host_login                164969 non-null  int64  \n",
      " 21  is_guest_login               164969 non-null  int64  \n",
      " 22  count                        164969 non-null  int64  \n",
      " 23  srv_count                    164969 non-null  int64  \n",
      " 24  serror_rate                  164969 non-null  float64\n",
      " 25  srv_serror_rate              164969 non-null  float64\n",
      " 26  same_srv_rate                164969 non-null  float64\n",
      " 27  diff_srv_rate                164969 non-null  float64\n",
      " 28  srv_diff_host_rate           164969 non-null  float64\n",
      " 29  una1                         164969 non-null  float64\n",
      " 30  una2                         164969 non-null  float64\n",
      " 31  dst_host_count               164969 non-null  int64  \n",
      " 32  dst_host_srv_count           164969 non-null  int64  \n",
      " 33  dst_host_same_srv_rate       164969 non-null  float64\n",
      " 34  dst_host_diff_srv_rate       164969 non-null  float64\n",
      " 35  dst_host_same_src_port_rate  164969 non-null  float64\n",
      " 36  dst_host_srv_diff_host_rate  164969 non-null  float64\n",
      " 37  dst_host_serror_rate         164969 non-null  float64\n",
      " 38  dst_host_srv_serror_rate     164969 non-null  float64\n",
      " 39  dst_host_rerror_rate         164969 non-null  float64\n",
      " 40  dst_host_srv_rerror_rate     164969 non-null  float64\n",
      " 41  result                       164969 non-null  object \n",
      "dtypes: float64(15), int64(23), object(4)\n",
      "memory usage: 54.1+ MB\n"
     ]
    }
   ],
   "source": [
    "icmp_df.info()"
   ]
  },
  {
   "cell_type": "code",
   "execution_count": 43,
   "metadata": {},
   "outputs": [
    {
     "data": {
      "text/html": [
       "<div>\n",
       "<style scoped>\n",
       "    .dataframe tbody tr th:only-of-type {\n",
       "        vertical-align: middle;\n",
       "    }\n",
       "\n",
       "    .dataframe tbody tr th {\n",
       "        vertical-align: top;\n",
       "    }\n",
       "\n",
       "    .dataframe thead th {\n",
       "        text-align: right;\n",
       "    }\n",
       "</style>\n",
       "<table border=\"1\" class=\"dataframe\">\n",
       "  <thead>\n",
       "    <tr style=\"text-align: right;\">\n",
       "      <th></th>\n",
       "      <th>duration</th>\n",
       "      <th>protocol_type</th>\n",
       "      <th>service</th>\n",
       "      <th>flag</th>\n",
       "      <th>src_bytes</th>\n",
       "      <th>dst_bytes</th>\n",
       "      <th>land</th>\n",
       "      <th>wrong_fragment</th>\n",
       "      <th>urgent</th>\n",
       "      <th>hot</th>\n",
       "      <th>...</th>\n",
       "      <th>dst_host_srv_count</th>\n",
       "      <th>dst_host_same_srv_rate</th>\n",
       "      <th>dst_host_diff_srv_rate</th>\n",
       "      <th>dst_host_same_src_port_rate</th>\n",
       "      <th>dst_host_srv_diff_host_rate</th>\n",
       "      <th>dst_host_serror_rate</th>\n",
       "      <th>dst_host_srv_serror_rate</th>\n",
       "      <th>dst_host_rerror_rate</th>\n",
       "      <th>dst_host_srv_rerror_rate</th>\n",
       "      <th>result</th>\n",
       "    </tr>\n",
       "  </thead>\n",
       "  <tbody>\n",
       "    <tr>\n",
       "      <th>82</th>\n",
       "      <td>0</td>\n",
       "      <td>icmp</td>\n",
       "      <td>eco_i</td>\n",
       "      <td>SF</td>\n",
       "      <td>30</td>\n",
       "      <td>0</td>\n",
       "      <td>0</td>\n",
       "      <td>0</td>\n",
       "      <td>0</td>\n",
       "      <td>0</td>\n",
       "      <td>...</td>\n",
       "      <td>3</td>\n",
       "      <td>0.01</td>\n",
       "      <td>0.01</td>\n",
       "      <td>0.01</td>\n",
       "      <td>0.0</td>\n",
       "      <td>0.0</td>\n",
       "      <td>0.0</td>\n",
       "      <td>0.0</td>\n",
       "      <td>0.0</td>\n",
       "      <td>normal.</td>\n",
       "    </tr>\n",
       "    <tr>\n",
       "      <th>156</th>\n",
       "      <td>0</td>\n",
       "      <td>icmp</td>\n",
       "      <td>ecr_i</td>\n",
       "      <td>SF</td>\n",
       "      <td>30</td>\n",
       "      <td>0</td>\n",
       "      <td>0</td>\n",
       "      <td>0</td>\n",
       "      <td>0</td>\n",
       "      <td>0</td>\n",
       "      <td>...</td>\n",
       "      <td>75</td>\n",
       "      <td>1.00</td>\n",
       "      <td>0.00</td>\n",
       "      <td>1.00</td>\n",
       "      <td>0.0</td>\n",
       "      <td>0.0</td>\n",
       "      <td>0.0</td>\n",
       "      <td>0.0</td>\n",
       "      <td>0.0</td>\n",
       "      <td>normal.</td>\n",
       "    </tr>\n",
       "    <tr>\n",
       "      <th>406</th>\n",
       "      <td>0</td>\n",
       "      <td>icmp</td>\n",
       "      <td>ecr_i</td>\n",
       "      <td>SF</td>\n",
       "      <td>30</td>\n",
       "      <td>0</td>\n",
       "      <td>0</td>\n",
       "      <td>0</td>\n",
       "      <td>0</td>\n",
       "      <td>0</td>\n",
       "      <td>...</td>\n",
       "      <td>98</td>\n",
       "      <td>1.00</td>\n",
       "      <td>0.00</td>\n",
       "      <td>1.00</td>\n",
       "      <td>0.0</td>\n",
       "      <td>0.0</td>\n",
       "      <td>0.0</td>\n",
       "      <td>0.0</td>\n",
       "      <td>0.0</td>\n",
       "      <td>normal.</td>\n",
       "    </tr>\n",
       "    <tr>\n",
       "      <th>629</th>\n",
       "      <td>0</td>\n",
       "      <td>icmp</td>\n",
       "      <td>ecr_i</td>\n",
       "      <td>SF</td>\n",
       "      <td>30</td>\n",
       "      <td>0</td>\n",
       "      <td>0</td>\n",
       "      <td>0</td>\n",
       "      <td>0</td>\n",
       "      <td>0</td>\n",
       "      <td>...</td>\n",
       "      <td>120</td>\n",
       "      <td>1.00</td>\n",
       "      <td>0.00</td>\n",
       "      <td>1.00</td>\n",
       "      <td>0.0</td>\n",
       "      <td>0.0</td>\n",
       "      <td>0.0</td>\n",
       "      <td>0.0</td>\n",
       "      <td>0.0</td>\n",
       "      <td>normal.</td>\n",
       "    </tr>\n",
       "    <tr>\n",
       "      <th>767</th>\n",
       "      <td>0</td>\n",
       "      <td>icmp</td>\n",
       "      <td>eco_i</td>\n",
       "      <td>SF</td>\n",
       "      <td>30</td>\n",
       "      <td>0</td>\n",
       "      <td>0</td>\n",
       "      <td>0</td>\n",
       "      <td>0</td>\n",
       "      <td>0</td>\n",
       "      <td>...</td>\n",
       "      <td>2</td>\n",
       "      <td>0.01</td>\n",
       "      <td>0.01</td>\n",
       "      <td>0.01</td>\n",
       "      <td>0.0</td>\n",
       "      <td>0.0</td>\n",
       "      <td>0.0</td>\n",
       "      <td>0.0</td>\n",
       "      <td>0.0</td>\n",
       "      <td>normal.</td>\n",
       "    </tr>\n",
       "  </tbody>\n",
       "</table>\n",
       "<p>5 rows × 42 columns</p>\n",
       "</div>"
      ],
      "text/plain": [
       "     duration protocol_type service flag  src_bytes  dst_bytes  land  \\\n",
       "82          0          icmp   eco_i   SF         30          0     0   \n",
       "156         0          icmp   ecr_i   SF         30          0     0   \n",
       "406         0          icmp   ecr_i   SF         30          0     0   \n",
       "629         0          icmp   ecr_i   SF         30          0     0   \n",
       "767         0          icmp   eco_i   SF         30          0     0   \n",
       "\n",
       "     wrong_fragment  urgent  hot  ...  dst_host_srv_count  \\\n",
       "82                0       0    0  ...                   3   \n",
       "156               0       0    0  ...                  75   \n",
       "406               0       0    0  ...                  98   \n",
       "629               0       0    0  ...                 120   \n",
       "767               0       0    0  ...                   2   \n",
       "\n",
       "     dst_host_same_srv_rate  dst_host_diff_srv_rate  \\\n",
       "82                     0.01                    0.01   \n",
       "156                    1.00                    0.00   \n",
       "406                    1.00                    0.00   \n",
       "629                    1.00                    0.00   \n",
       "767                    0.01                    0.01   \n",
       "\n",
       "     dst_host_same_src_port_rate  dst_host_srv_diff_host_rate  \\\n",
       "82                          0.01                          0.0   \n",
       "156                         1.00                          0.0   \n",
       "406                         1.00                          0.0   \n",
       "629                         1.00                          0.0   \n",
       "767                         0.01                          0.0   \n",
       "\n",
       "     dst_host_serror_rate  dst_host_srv_serror_rate  dst_host_rerror_rate  \\\n",
       "82                    0.0                       0.0                   0.0   \n",
       "156                   0.0                       0.0                   0.0   \n",
       "406                   0.0                       0.0                   0.0   \n",
       "629                   0.0                       0.0                   0.0   \n",
       "767                   0.0                       0.0                   0.0   \n",
       "\n",
       "     dst_host_srv_rerror_rate   result  \n",
       "82                        0.0  normal.  \n",
       "156                       0.0  normal.  \n",
       "406                       0.0  normal.  \n",
       "629                       0.0  normal.  \n",
       "767                       0.0  normal.  \n",
       "\n",
       "[5 rows x 42 columns]"
      ]
     },
     "execution_count": 43,
     "metadata": {},
     "output_type": "execute_result"
    }
   ],
   "source": [
    "icmp_df.head()"
   ]
  },
  {
   "cell_type": "code",
   "execution_count": 44,
   "metadata": {},
   "outputs": [],
   "source": [
    "#I will be extracting all the important features as a \"priori\" for preprocessing\n",
    "features = [\"duration\",\"service\",\"src_bytes\",\"wrong_fragment\",\n",
    "            \"count\",\"urgent\",\"num_compromised\",\"srv_count\"]\n",
    "target = \"result\""
   ]
  },
  {
   "cell_type": "code",
   "execution_count": 45,
   "metadata": {},
   "outputs": [],
   "source": [
    "X = icmp_df.loc[:,features]\n",
    "y = icmp_df.loc[:,target]"
   ]
  },
  {
   "cell_type": "code",
   "execution_count": 46,
   "metadata": {},
   "outputs": [
    {
     "name": "stdout",
     "output_type": "stream",
     "text": [
      "<class 'pandas.core.frame.DataFrame'>\n",
      "Int64Index: 164969 entries, 82 to 310931\n",
      "Data columns (total 8 columns):\n",
      " #   Column           Non-Null Count   Dtype \n",
      "---  ------           --------------   ----- \n",
      " 0   duration         164969 non-null  int64 \n",
      " 1   service          164969 non-null  object\n",
      " 2   src_bytes        164969 non-null  int64 \n",
      " 3   wrong_fragment   164969 non-null  int64 \n",
      " 4   count            164969 non-null  int64 \n",
      " 5   urgent           164969 non-null  int64 \n",
      " 6   num_compromised  164969 non-null  int64 \n",
      " 7   srv_count        164969 non-null  int64 \n",
      "dtypes: int64(7), object(1)\n",
      "memory usage: 11.3+ MB\n"
     ]
    }
   ],
   "source": [
    "X.info()\n"
   ]
  },
  {
   "cell_type": "code",
   "execution_count": 47,
   "metadata": {},
   "outputs": [
    {
     "name": "stdout",
     "output_type": "stream",
     "text": [
      "['ipsweep.' 'multihop.' 'normal.' 'pod.' 'saint.' 'satan.' 'smurf.'\n",
      " 'snmpguess.']\n"
     ]
    }
   ],
   "source": [
    "classes = np.unique(y)\n",
    "print(classes)"
   ]
  },
  {
   "cell_type": "code",
   "execution_count": 48,
   "metadata": {},
   "outputs": [],
   "source": [
    "#replacing all classes of attack with 1 and normal result with 0 in our icmp_df\n",
    "for i in range(len(classes)):\n",
    "    if i == 2:\n",
    "        icmp_df = icmp_df.replace(classes[i], 0)\n",
    "    else:\n",
    "        icmp_df = icmp_df.replace(classes[i], 1)\n",
    "\n",
    "#turning the service attribute to categorical values\n",
    "icmp_df=icmp_df.replace(\"eco_i\",-0.1)\n",
    "icmp_df=icmp_df.replace(\"ecr_i\",0.0)\n",
    "icmp_df=icmp_df.replace(\"tim_i\",0.1)\n",
    "icmp_df=icmp_df.replace(\"urp_i\",0.2)"
   ]
  },
  {
   "cell_type": "code",
   "execution_count": 49,
   "metadata": {},
   "outputs": [
    {
     "name": "stdout",
     "output_type": "stream",
     "text": [
      "[-0.1  0.   0.1  0.2]\n"
     ]
    }
   ],
   "source": [
    "val = np.unique(icmp_df['service'])\n",
    "print(val)"
   ]
  },
  {
   "cell_type": "code",
   "execution_count": 50,
   "metadata": {},
   "outputs": [],
   "source": [
    "y = icmp_df.loc[:,target]"
   ]
  },
  {
   "cell_type": "code",
   "execution_count": 51,
   "metadata": {},
   "outputs": [
    {
     "data": {
      "text/plain": [
       "[]"
      ]
     },
     "execution_count": 51,
     "metadata": {},
     "output_type": "execute_result"
    },
    {
     "data": {
      "image/png": "[encoded data removed]",
      "text/plain": [
       "<Figure size 432x288 with 2 Axes>"
      ]
     },
     "metadata": {
      "needs_background": "light"
     },
     "output_type": "display_data"
    }
   ],
   "source": [
    "#I selected certain features but I will have to find some covariance between them so I will plot a covariance heatmap\n",
    "sns.heatmap(X.corr(), annot=True,cmap=\"RdBu\")\n",
    "plt.plot()\n",
    "#the data as seen is highly uncorrelated as most of it is one valued such as the duration one."
   ]
  },
  {
   "cell_type": "code",
   "execution_count": 52,
   "metadata": {},
   "outputs": [
    {
     "name": "stdout",
     "output_type": "stream",
     "text": [
      "<class 'pandas.core.frame.DataFrame'>\n",
      "Int64Index: 164969 entries, 82 to 310931\n",
      "Data columns (total 8 columns):\n",
      " #   Column           Non-Null Count   Dtype  \n",
      "---  ------           --------------   -----  \n",
      " 0   duration         164969 non-null  float64\n",
      " 1   service          164969 non-null  float64\n",
      " 2   src_bytes        164969 non-null  float64\n",
      " 3   wrong_fragment   164969 non-null  float64\n",
      " 4   count            164969 non-null  float64\n",
      " 5   urgent           164969 non-null  float64\n",
      " 6   num_compromised  164969 non-null  float64\n",
      " 7   srv_count        164969 non-null  float64\n",
      "dtypes: float64(8)\n",
      "memory usage: 11.3 MB\n"
     ]
    }
   ],
   "source": [
    "X = icmp_df.loc[:,features]\n",
    "y = icmp_df.loc[:,target]\n",
    "X.head()\n",
    "X['duration'] = X['duration'].astype('float')\n",
    "X['src_bytes'] = X['src_bytes'].astype('float')\n",
    "X['wrong_fragment'] = X['wrong_fragment'].astype('float')\n",
    "X['count'] = X['count'].astype('float')\n",
    "X['urgent'] = X['urgent'].astype('float')\n",
    "X['num_compromised'] = X['num_compromised'].astype('float')\n",
    "X['srv_count'] = X['srv_count'].astype('float')\n",
    "X.info()"
   ]
  },
  {
   "cell_type": "code",
   "execution_count": 53,
   "metadata": {},
   "outputs": [
    {
     "name": "stdout",
     "output_type": "stream",
     "text": [
      "[0.0, 0.0, 30.0, 0.0, 1.0, 0.0, 0.0, 1.0]\n"
     ]
    }
   ],
   "source": [
    "print(list(X.loc[629,:])) "
   ]
  },
  {
   "cell_type": "code",
   "execution_count": 54,
   "metadata": {},
   "outputs": [],
   "source": [
    "from sklearn.model_selection import train_test_split"
   ]
  },
  {
   "cell_type": "code",
   "execution_count": 55,
   "metadata": {},
   "outputs": [],
   "source": [
    "X_train, X_test, y_train, y_test = train_test_split(X, y, random_state=42, test_size=0.3)"
   ]
  },
  {
   "cell_type": "code",
   "execution_count": null,
   "metadata": {},
   "outputs": [],
   "source": [
    "#sending icmp attack file as csv dataset\n",
    "icmp_df.to_csv(\"/home/noroot/Documents/final_year_project/Intrusion_detection_ML/dataset/revised_icmp_dataset.csv\")"
   ]
  },
  {
   "cell_type": "code",
   "execution_count": 56,
   "metadata": {},
   "outputs": [],
   "source": [
    "from sklearn.linear_model import LogisticRegression\n",
    "from sklearn.neighbors import KNeighborsClassifier\n",
    "from sklearn.neural_network import MLPClassifier\n",
    "from sklearn.tree import DecisionTreeClassifier\n",
    "\n",
    "from sklearn.metrics import classification_report\n",
    "from sklearn.metrics import confusion_matrix\n",
    "from sklearn.metrics import accuracy_score"
   ]
  },
  {
   "cell_type": "code",
   "execution_count": 57,
   "metadata": {},
   "outputs": [],
   "source": [
    "models = [LogisticRegression(), KNeighborsClassifier(n_neighbors=3),MLPClassifier(alpha=0.005),DecisionTreeClassifier()]\n",
    "classifiers = [\"LR\", \"KNN\",\"MLP\",\"ID3\"]\n",
    "scores = []"
   ]
  },
  {
   "cell_type": "code",
   "execution_count": 58,
   "metadata": {},
   "outputs": [
    {
     "name": "stderr",
     "output_type": "stream",
     "text": [
      "/home/noroot/.local/lib/python3.9/site-packages/sklearn/linear_model/_logistic.py:763: ConvergenceWarning: lbfgs failed to converge (status=1):\n",
      "STOP: TOTAL NO. of ITERATIONS REACHED LIMIT.\n",
      "\n",
      "Increase the number of iterations (max_iter) or scale the data as shown in:\n",
      "    https://scikit-learn.org/stable/modules/preprocessing.html\n",
      "Please also refer to the documentation for alternative solver options:\n",
      "    https://scikit-learn.org/stable/modules/linear_model.html#logistic-regression\n",
      "  n_iter_i = _check_optimize_result(\n"
     ]
    },
    {
     "name": "stdout",
     "output_type": "stream",
     "text": [
      "Accuracy of the model is:  99.93938291810632\n",
      "Confusion Matrix:\n",
      " [[   82    24]\n",
      " [    6 49379]]\n",
      "Report:\n",
      "               precision    recall  f1-score   support\n",
      "\n",
      "           0       0.93      0.77      0.85       106\n",
      "           1       1.00      1.00      1.00     49385\n",
      "\n",
      "    accuracy                           1.00     49491\n",
      "   macro avg       0.97      0.89      0.92     49491\n",
      "weighted avg       1.00      1.00      1.00     49491\n",
      "\n",
      "\n",
      "==============***===============\n",
      "Accuracy of the model is:  99.99393829181064\n",
      "Confusion Matrix:\n",
      " [[  104     2]\n",
      " [    1 49384]]\n",
      "Report:\n",
      "               precision    recall  f1-score   support\n",
      "\n",
      "           0       0.99      0.98      0.99       106\n",
      "           1       1.00      1.00      1.00     49385\n",
      "\n",
      "    accuracy                           1.00     49491\n",
      "   macro avg       1.00      0.99      0.99     49491\n",
      "weighted avg       1.00      1.00      1.00     49491\n",
      "\n",
      "\n",
      "==============***===============\n",
      "Accuracy of the model is:  99.75349053363239\n",
      "Confusion Matrix:\n",
      " [[  103     3]\n",
      " [  119 49266]]\n",
      "Report:\n",
      "               precision    recall  f1-score   support\n",
      "\n",
      "           0       0.46      0.97      0.63       106\n",
      "           1       1.00      1.00      1.00     49385\n",
      "\n",
      "    accuracy                           1.00     49491\n",
      "   macro avg       0.73      0.98      0.81     49491\n",
      "weighted avg       1.00      1.00      1.00     49491\n",
      "\n",
      "\n",
      "==============***===============\n",
      "Accuracy of the model is:  99.99797943060355\n",
      "Confusion Matrix:\n",
      " [[  106     0]\n",
      " [    1 49384]]\n",
      "Report:\n",
      "               precision    recall  f1-score   support\n",
      "\n",
      "           0       0.99      1.00      1.00       106\n",
      "           1       1.00      1.00      1.00     49385\n",
      "\n",
      "    accuracy                           1.00     49491\n",
      "   macro avg       1.00      1.00      1.00     49491\n",
      "weighted avg       1.00      1.00      1.00     49491\n",
      "\n",
      "\n",
      "==============***===============\n"
     ]
    }
   ],
   "source": [
    "for model in models:\n",
    "    model.fit(X_train,y_train)\n",
    "    y_pred = model.predict(X_test)\n",
    "    score = accuracy_score(y_test, y_pred)*100\n",
    "    scores.append(score)\n",
    "    print(\"Accuracy of the model is: \", score)\n",
    "    conf_matrix = confusion_matrix(y_test,y_pred)\n",
    "    report = classification_report(y_test,y_pred)\n",
    "    print(\"Confusion Matrix:\\n\",conf_matrix)\n",
    "    print(\"Report:\\n\",report)\n",
    "    print(\"\\n==============***===============\")"
   ]
  },
  {
   "cell_type": "code",
   "execution_count": 59,
   "metadata": {},
   "outputs": [
    {
     "data": {
      "image/png": "[encoded data removed]",
      "text/plain": [
       "<Figure size 432x288 with 1 Axes>"
      ]
     },
     "metadata": {
      "needs_background": "light"
     },
     "output_type": "display_data"
    }
   ],
   "source": [
    "plt.plot(classifiers,scores)\n",
    "plt.title(\"ICMP Attack\")\n",
    "plt.ylim(99.5,100)\n",
    "plt.show()"
   ]
  },
  {
   "cell_type": "code",
   "execution_count": 30,
   "metadata": {},
   "outputs": [
    {
     "data": {
      "text/html": [
       "<div>\n",
       "<style scoped>\n",
       "    .dataframe tbody tr th:only-of-type {\n",
       "        vertical-align: middle;\n",
       "    }\n",
       "\n",
       "    .dataframe tbody tr th {\n",
       "        vertical-align: top;\n",
       "    }\n",
       "\n",
       "    .dataframe thead th {\n",
       "        text-align: right;\n",
       "    }\n",
       "</style>\n",
       "<table border=\"1\" class=\"dataframe\">\n",
       "  <thead>\n",
       "    <tr style=\"text-align: right;\">\n",
       "      <th></th>\n",
       "      <th>duration</th>\n",
       "      <th>service</th>\n",
       "      <th>src_bytes</th>\n",
       "      <th>wrong_fragment</th>\n",
       "      <th>count</th>\n",
       "      <th>urgent</th>\n",
       "      <th>num_compromised</th>\n",
       "      <th>srv_count</th>\n",
       "    </tr>\n",
       "  </thead>\n",
       "  <tbody>\n",
       "    <tr>\n",
       "      <th>82</th>\n",
       "      <td>0.0</td>\n",
       "      <td>-0.1</td>\n",
       "      <td>30.0</td>\n",
       "      <td>0.0</td>\n",
       "      <td>2.0</td>\n",
       "      <td>0.0</td>\n",
       "      <td>0.0</td>\n",
       "      <td>2.0</td>\n",
       "    </tr>\n",
       "    <tr>\n",
       "      <th>156</th>\n",
       "      <td>0.0</td>\n",
       "      <td>0.0</td>\n",
       "      <td>30.0</td>\n",
       "      <td>0.0</td>\n",
       "      <td>2.0</td>\n",
       "      <td>0.0</td>\n",
       "      <td>0.0</td>\n",
       "      <td>2.0</td>\n",
       "    </tr>\n",
       "    <tr>\n",
       "      <th>406</th>\n",
       "      <td>0.0</td>\n",
       "      <td>0.0</td>\n",
       "      <td>30.0</td>\n",
       "      <td>0.0</td>\n",
       "      <td>2.0</td>\n",
       "      <td>0.0</td>\n",
       "      <td>0.0</td>\n",
       "      <td>2.0</td>\n",
       "    </tr>\n",
       "    <tr>\n",
       "      <th>629</th>\n",
       "      <td>0.0</td>\n",
       "      <td>0.0</td>\n",
       "      <td>30.0</td>\n",
       "      <td>0.0</td>\n",
       "      <td>1.0</td>\n",
       "      <td>0.0</td>\n",
       "      <td>0.0</td>\n",
       "      <td>1.0</td>\n",
       "    </tr>\n",
       "    <tr>\n",
       "      <th>767</th>\n",
       "      <td>0.0</td>\n",
       "      <td>-0.1</td>\n",
       "      <td>30.0</td>\n",
       "      <td>0.0</td>\n",
       "      <td>3.0</td>\n",
       "      <td>0.0</td>\n",
       "      <td>0.0</td>\n",
       "      <td>1.0</td>\n",
       "    </tr>\n",
       "    <tr>\n",
       "      <th>813</th>\n",
       "      <td>0.0</td>\n",
       "      <td>0.0</td>\n",
       "      <td>1032.0</td>\n",
       "      <td>0.0</td>\n",
       "      <td>508.0</td>\n",
       "      <td>0.0</td>\n",
       "      <td>0.0</td>\n",
       "      <td>508.0</td>\n",
       "    </tr>\n",
       "    <tr>\n",
       "      <th>814</th>\n",
       "      <td>0.0</td>\n",
       "      <td>0.0</td>\n",
       "      <td>1032.0</td>\n",
       "      <td>0.0</td>\n",
       "      <td>509.0</td>\n",
       "      <td>0.0</td>\n",
       "      <td>0.0</td>\n",
       "      <td>509.0</td>\n",
       "    </tr>\n",
       "    <tr>\n",
       "      <th>815</th>\n",
       "      <td>0.0</td>\n",
       "      <td>0.0</td>\n",
       "      <td>1032.0</td>\n",
       "      <td>0.0</td>\n",
       "      <td>510.0</td>\n",
       "      <td>0.0</td>\n",
       "      <td>0.0</td>\n",
       "      <td>510.0</td>\n",
       "    </tr>\n",
       "    <tr>\n",
       "      <th>816</th>\n",
       "      <td>0.0</td>\n",
       "      <td>0.0</td>\n",
       "      <td>1032.0</td>\n",
       "      <td>0.0</td>\n",
       "      <td>510.0</td>\n",
       "      <td>0.0</td>\n",
       "      <td>0.0</td>\n",
       "      <td>510.0</td>\n",
       "    </tr>\n",
       "    <tr>\n",
       "      <th>817</th>\n",
       "      <td>0.0</td>\n",
       "      <td>0.0</td>\n",
       "      <td>1032.0</td>\n",
       "      <td>0.0</td>\n",
       "      <td>511.0</td>\n",
       "      <td>0.0</td>\n",
       "      <td>0.0</td>\n",
       "      <td>511.0</td>\n",
       "    </tr>\n",
       "  </tbody>\n",
       "</table>\n",
       "</div>"
      ],
      "text/plain": [
       "     duration  service  src_bytes  wrong_fragment  count  urgent  \\\n",
       "82        0.0     -0.1       30.0             0.0    2.0     0.0   \n",
       "156       0.0      0.0       30.0             0.0    2.0     0.0   \n",
       "406       0.0      0.0       30.0             0.0    2.0     0.0   \n",
       "629       0.0      0.0       30.0             0.0    1.0     0.0   \n",
       "767       0.0     -0.1       30.0             0.0    3.0     0.0   \n",
       "813       0.0      0.0     1032.0             0.0  508.0     0.0   \n",
       "814       0.0      0.0     1032.0             0.0  509.0     0.0   \n",
       "815       0.0      0.0     1032.0             0.0  510.0     0.0   \n",
       "816       0.0      0.0     1032.0             0.0  510.0     0.0   \n",
       "817       0.0      0.0     1032.0             0.0  511.0     0.0   \n",
       "\n",
       "     num_compromised  srv_count  \n",
       "82               0.0        2.0  \n",
       "156              0.0        2.0  \n",
       "406              0.0        2.0  \n",
       "629              0.0        1.0  \n",
       "767              0.0        1.0  \n",
       "813              0.0      508.0  \n",
       "814              0.0      509.0  \n",
       "815              0.0      510.0  \n",
       "816              0.0      510.0  \n",
       "817              0.0      511.0  "
      ]
     },
     "execution_count": 30,
     "metadata": {},
     "output_type": "execute_result"
    }
   ],
   "source": [
    "X.head(10)"
   ]
  },
  {
   "cell_type": "code",
   "execution_count": 31,
   "metadata": {},
   "outputs": [
    {
     "data": {
      "text/plain": [
       "82     0\n",
       "156    0\n",
       "406    0\n",
       "629    0\n",
       "767    0\n",
       "813    1\n",
       "814    1\n",
       "815    1\n",
       "816    1\n",
       "817    1\n",
       "Name: result, dtype: int64"
      ]
     },
     "execution_count": 31,
     "metadata": {},
     "output_type": "execute_result"
    }
   ],
   "source": [
    "y.head(10)"
   ]
  },
  {
   "cell_type": "code",
   "execution_count": 33,
   "metadata": {},
   "outputs": [
    {
     "name": "stdout",
     "output_type": "stream",
     "text": [
      "[0.0, 0.0, 1032.0, 0.0, 508.0, 0.0, 0.0, 508.0]\n"
     ]
    }
   ],
   "source": [
    "print(list(X.loc[813,:])) "
   ]
  }
 ],
 "metadata": {
  "kernelspec": {
   "display_name": "Python 3",
   "language": "python",
   "name": "python3"
  },
  "language_info": {
   "codemirror_mode": {
    "name": "ipython",
    "version": 3
   },
   "file_extension": ".py",
   "mimetype": "text/x-python",
   "name": "python",
   "nbconvert_exporter": "python",
   "pygments_lexer": "ipython3",
   "version": "3.9.2"
  }
 },
 "nbformat": 4,
 "nbformat_minor": 2
}
